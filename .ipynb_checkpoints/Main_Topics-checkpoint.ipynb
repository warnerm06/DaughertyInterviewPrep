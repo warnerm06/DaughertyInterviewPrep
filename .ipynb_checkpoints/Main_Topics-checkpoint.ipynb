{
 "cells": [
  {
   "cell_type": "markdown",
   "metadata": {},
   "source": [
    "Things I've learned: How to think more like a professional programmer than a student or hobbiest. \n",
    "    0. Time constraint added pressure. \n",
    "    1. Errors: Lots of errors :-) \n",
    "        a. Check for syntax. \n",
    "        b. Read the error message. \n",
    "        c. What output is expected? Inplace or Copy? \n",
    "    2. Tricks:\n",
    "        a. Convert a string to a list to avoid commas and quotes. \n",
    "        b. Don't use > sign. Using only < makes things ordered. Ex. 10< a <100\n",
    "    3. Think like a professional programmer. \n",
    "        a. Break down problems into small parts and solve individually.\n",
    "        b. Look for shortcuts. \n",
    "        c. Supply your own test cases. \n",
    "    4. Use paper first.\n",
    "        a. Write down the constraints on paper before coding. \n",
    "        b. I found it faster to use paper to get started. "
   ]
  },
  {
   "cell_type": "code",
   "execution_count": 59,
   "metadata": {},
   "outputs": [
    {
     "name": "stdout",
     "output_type": "stream",
     "text": [
      "Hello Bobby's Place\n",
      "Hello Bobby\"sPlace\n"
     ]
    }
   ],
   "source": [
    "#Strings\n",
    "print(\"Hello Bobby's Place\") # double quote a single quote\n",
    "print(\"\"\"Hello Bobby\"sPlace\"\"\") # triple quote a single quote"
   ]
  },
  {
   "cell_type": "code",
   "execution_count": 60,
   "metadata": {},
   "outputs": [
    {
     "name": "stdout",
     "output_type": "stream",
     "text": [
      "H\n",
      "Hello\n",
      "dlroW olleH\n"
     ]
    }
   ],
   "source": [
    "message= \"Hello World\"\n",
    "print(message[0]) # print 1st letter of string\n",
    "print(message[0:5]) # print first 5 Characters of string\n",
    "print(message[::-1]) # reverse a string"
   ]
  },
  {
   "cell_type": "code",
   "execution_count": 61,
   "metadata": {},
   "outputs": [
    {
     "name": "stdout",
     "output_type": "stream",
     "text": [
      "Hello, Michael Williams\n",
      "Hello, Michael Williams. Nice to meet you!\n"
     ]
    }
   ],
   "source": [
    "# formatting strings\n",
    "first = 'Michael'\n",
    "last = 'Williams'\n",
    "message = 'Hello, {} {}'.format(first, last)\n",
    "message_f = f'Hello, {first} {last}. Nice to meet you!' # f string\n",
    "print(message)\n",
    "print(message_f)"
   ]
  },
  {
   "cell_type": "code",
   "execution_count": 140,
   "metadata": {},
   "outputs": [
    {
     "name": "stdout",
     "output_type": "stream",
     "text": [
      "Help on class str in module builtins:\n",
      "\n",
      "class str(object)\n",
      " |  str(object='') -> str\n",
      " |  str(bytes_or_buffer[, encoding[, errors]]) -> str\n",
      " |  \n",
      " |  Create a new string object from the given object. If encoding or\n",
      " |  errors is specified, then the object must expose a data buffer\n",
      " |  that will be decoded using the given encoding and error handler.\n",
      " |  Otherwise, returns the result of object.__str__() (if defined)\n",
      " |  or repr(object).\n",
      " |  encoding defaults to sys.getdefaultencoding().\n",
      " |  errors defaults to 'strict'.\n",
      " |  \n",
      " |  Methods defined here:\n",
      " |  \n",
      " |  __add__(self, value, /)\n",
      " |      Return self+value.\n",
      " |  \n",
      " |  __contains__(self, key, /)\n",
      " |      Return key in self.\n",
      " |  \n",
      " |  __eq__(self, value, /)\n",
      " |      Return self==value.\n",
      " |  \n",
      " |  __format__(...)\n",
      " |      S.__format__(format_spec) -> str\n",
      " |      \n",
      " |      Return a formatted version of S as described by format_spec.\n",
      " |  \n",
      " |  __ge__(self, value, /)\n",
      " |      Return self>=value.\n",
      " |  \n",
      " |  __getattribute__(self, name, /)\n",
      " |      Return getattr(self, name).\n",
      " |  \n",
      " |  __getitem__(self, key, /)\n",
      " |      Return self[key].\n",
      " |  \n",
      " |  __getnewargs__(...)\n",
      " |  \n",
      " |  __gt__(self, value, /)\n",
      " |      Return self>value.\n",
      " |  \n",
      " |  __hash__(self, /)\n",
      " |      Return hash(self).\n",
      " |  \n",
      " |  __iter__(self, /)\n",
      " |      Implement iter(self).\n",
      " |  \n",
      " |  __le__(self, value, /)\n",
      " |      Return self<=value.\n",
      " |  \n",
      " |  __len__(self, /)\n",
      " |      Return len(self).\n",
      " |  \n",
      " |  __lt__(self, value, /)\n",
      " |      Return self<value.\n",
      " |  \n",
      " |  __mod__(self, value, /)\n",
      " |      Return self%value.\n",
      " |  \n",
      " |  __mul__(self, value, /)\n",
      " |      Return self*value.\n",
      " |  \n",
      " |  __ne__(self, value, /)\n",
      " |      Return self!=value.\n",
      " |  \n",
      " |  __new__(*args, **kwargs) from builtins.type\n",
      " |      Create and return a new object.  See help(type) for accurate signature.\n",
      " |  \n",
      " |  __repr__(self, /)\n",
      " |      Return repr(self).\n",
      " |  \n",
      " |  __rmod__(self, value, /)\n",
      " |      Return value%self.\n",
      " |  \n",
      " |  __rmul__(self, value, /)\n",
      " |      Return value*self.\n",
      " |  \n",
      " |  __sizeof__(...)\n",
      " |      S.__sizeof__() -> size of S in memory, in bytes\n",
      " |  \n",
      " |  __str__(self, /)\n",
      " |      Return str(self).\n",
      " |  \n",
      " |  capitalize(...)\n",
      " |      S.capitalize() -> str\n",
      " |      \n",
      " |      Return a capitalized version of S, i.e. make the first character\n",
      " |      have upper case and the rest lower case.\n",
      " |  \n",
      " |  casefold(...)\n",
      " |      S.casefold() -> str\n",
      " |      \n",
      " |      Return a version of S suitable for caseless comparisons.\n",
      " |  \n",
      " |  center(...)\n",
      " |      S.center(width[, fillchar]) -> str\n",
      " |      \n",
      " |      Return S centered in a string of length width. Padding is\n",
      " |      done using the specified fill character (default is a space)\n",
      " |  \n",
      " |  count(...)\n",
      " |      S.count(sub[, start[, end]]) -> int\n",
      " |      \n",
      " |      Return the number of non-overlapping occurrences of substring sub in\n",
      " |      string S[start:end].  Optional arguments start and end are\n",
      " |      interpreted as in slice notation.\n",
      " |  \n",
      " |  encode(...)\n",
      " |      S.encode(encoding='utf-8', errors='strict') -> bytes\n",
      " |      \n",
      " |      Encode S using the codec registered for encoding. Default encoding\n",
      " |      is 'utf-8'. errors may be given to set a different error\n",
      " |      handling scheme. Default is 'strict' meaning that encoding errors raise\n",
      " |      a UnicodeEncodeError. Other possible values are 'ignore', 'replace' and\n",
      " |      'xmlcharrefreplace' as well as any other name registered with\n",
      " |      codecs.register_error that can handle UnicodeEncodeErrors.\n",
      " |  \n",
      " |  endswith(...)\n",
      " |      S.endswith(suffix[, start[, end]]) -> bool\n",
      " |      \n",
      " |      Return True if S ends with the specified suffix, False otherwise.\n",
      " |      With optional start, test S beginning at that position.\n",
      " |      With optional end, stop comparing S at that position.\n",
      " |      suffix can also be a tuple of strings to try.\n",
      " |  \n",
      " |  expandtabs(...)\n",
      " |      S.expandtabs(tabsize=8) -> str\n",
      " |      \n",
      " |      Return a copy of S where all tab characters are expanded using spaces.\n",
      " |      If tabsize is not given, a tab size of 8 characters is assumed.\n",
      " |  \n",
      " |  find(...)\n",
      " |      S.find(sub[, start[, end]]) -> int\n",
      " |      \n",
      " |      Return the lowest index in S where substring sub is found,\n",
      " |      such that sub is contained within S[start:end].  Optional\n",
      " |      arguments start and end are interpreted as in slice notation.\n",
      " |      \n",
      " |      Return -1 on failure.\n",
      " |  \n",
      " |  format(...)\n",
      " |      S.format(*args, **kwargs) -> str\n",
      " |      \n",
      " |      Return a formatted version of S, using substitutions from args and kwargs.\n",
      " |      The substitutions are identified by braces ('{' and '}').\n",
      " |  \n",
      " |  format_map(...)\n",
      " |      S.format_map(mapping) -> str\n",
      " |      \n",
      " |      Return a formatted version of S, using substitutions from mapping.\n",
      " |      The substitutions are identified by braces ('{' and '}').\n",
      " |  \n",
      " |  index(...)\n",
      " |      S.index(sub[, start[, end]]) -> int\n",
      " |      \n",
      " |      Return the lowest index in S where substring sub is found, \n",
      " |      such that sub is contained within S[start:end].  Optional\n",
      " |      arguments start and end are interpreted as in slice notation.\n",
      " |      \n",
      " |      Raises ValueError when the substring is not found.\n",
      " |  \n",
      " |  isalnum(...)\n",
      " |      S.isalnum() -> bool\n",
      " |      \n",
      " |      Return True if all characters in S are alphanumeric\n",
      " |      and there is at least one character in S, False otherwise.\n",
      " |  \n",
      " |  isalpha(...)\n",
      " |      S.isalpha() -> bool\n",
      " |      \n",
      " |      Return True if all characters in S are alphabetic\n",
      " |      and there is at least one character in S, False otherwise.\n",
      " |  \n",
      " |  isdecimal(...)\n",
      " |      S.isdecimal() -> bool\n",
      " |      \n",
      " |      Return True if there are only decimal characters in S,\n",
      " |      False otherwise.\n",
      " |  \n",
      " |  isdigit(...)\n",
      " |      S.isdigit() -> bool\n",
      " |      \n",
      " |      Return True if all characters in S are digits\n",
      " |      and there is at least one character in S, False otherwise.\n",
      " |  \n",
      " |  isidentifier(...)\n",
      " |      S.isidentifier() -> bool\n",
      " |      \n",
      " |      Return True if S is a valid identifier according\n",
      " |      to the language definition.\n",
      " |      \n",
      " |      Use keyword.iskeyword() to test for reserved identifiers\n",
      " |      such as \"def\" and \"class\".\n",
      " |  \n",
      " |  islower(...)\n",
      " |      S.islower() -> bool\n",
      " |      \n",
      " |      Return True if all cased characters in S are lowercase and there is\n",
      " |      at least one cased character in S, False otherwise.\n",
      " |  \n",
      " |  isnumeric(...)\n",
      " |      S.isnumeric() -> bool\n",
      " |      \n",
      " |      Return True if there are only numeric characters in S,\n",
      " |      False otherwise.\n",
      " |  \n",
      " |  isprintable(...)\n",
      " |      S.isprintable() -> bool\n",
      " |      \n",
      " |      Return True if all characters in S are considered\n",
      " |      printable in repr() or S is empty, False otherwise.\n",
      " |  \n",
      " |  isspace(...)\n",
      " |      S.isspace() -> bool\n",
      " |      \n",
      " |      Return True if all characters in S are whitespace\n",
      " |      and there is at least one character in S, False otherwise.\n",
      " |  \n",
      " |  istitle(...)\n",
      " |      S.istitle() -> bool\n",
      " |      \n",
      " |      Return True if S is a titlecased string and there is at least one\n",
      " |      character in S, i.e. upper- and titlecase characters may only\n",
      " |      follow uncased characters and lowercase characters only cased ones.\n",
      " |      Return False otherwise.\n",
      " |  \n",
      " |  isupper(...)\n",
      " |      S.isupper() -> bool\n",
      " |      \n",
      " |      Return True if all cased characters in S are uppercase and there is\n",
      " |      at least one cased character in S, False otherwise.\n",
      " |  \n",
      " |  join(...)\n",
      " |      S.join(iterable) -> str\n",
      " |      \n",
      " |      Return a string which is the concatenation of the strings in the\n",
      " |      iterable.  The separator between elements is S.\n",
      " |  \n",
      " |  ljust(...)\n",
      " |      S.ljust(width[, fillchar]) -> str\n",
      " |      \n",
      " |      Return S left-justified in a Unicode string of length width. Padding is\n",
      " |      done using the specified fill character (default is a space).\n",
      " |  \n",
      " |  lower(...)\n",
      " |      S.lower() -> str\n",
      " |      \n",
      " |      Return a copy of the string S converted to lowercase.\n",
      " |  \n",
      " |  lstrip(...)\n",
      " |      S.lstrip([chars]) -> str\n",
      " |      \n",
      " |      Return a copy of the string S with leading whitespace removed.\n",
      " |      If chars is given and not None, remove characters in chars instead.\n",
      " |  \n",
      " |  partition(...)\n",
      " |      S.partition(sep) -> (head, sep, tail)\n",
      " |      \n",
      " |      Search for the separator sep in S, and return the part before it,\n",
      " |      the separator itself, and the part after it.  If the separator is not\n",
      " |      found, return S and two empty strings.\n",
      " |  \n",
      " |  replace(...)\n",
      " |      S.replace(old, new[, count]) -> str\n",
      " |      \n",
      " |      Return a copy of S with all occurrences of substring\n",
      " |      old replaced by new.  If the optional argument count is\n",
      " |      given, only the first count occurrences are replaced.\n",
      " |  \n",
      " |  rfind(...)\n",
      " |      S.rfind(sub[, start[, end]]) -> int\n",
      " |      \n",
      " |      Return the highest index in S where substring sub is found,\n",
      " |      such that sub is contained within S[start:end].  Optional\n",
      " |      arguments start and end are interpreted as in slice notation.\n",
      " |      \n",
      " |      Return -1 on failure.\n",
      " |  \n",
      " |  rindex(...)\n",
      " |      S.rindex(sub[, start[, end]]) -> int\n",
      " |      \n",
      " |      Return the highest index in S where substring sub is found,\n",
      " |      such that sub is contained within S[start:end].  Optional\n",
      " |      arguments start and end are interpreted as in slice notation.\n",
      " |      \n",
      " |      Raises ValueError when the substring is not found.\n",
      " |  \n",
      " |  rjust(...)\n",
      " |      S.rjust(width[, fillchar]) -> str\n",
      " |      \n",
      " |      Return S right-justified in a string of length width. Padding is\n",
      " |      done using the specified fill character (default is a space).\n",
      " |  \n",
      " |  rpartition(...)\n",
      " |      S.rpartition(sep) -> (head, sep, tail)\n",
      " |      \n",
      " |      Search for the separator sep in S, starting at the end of S, and return\n",
      " |      the part before it, the separator itself, and the part after it.  If the\n",
      " |      separator is not found, return two empty strings and S.\n",
      " |  \n",
      " |  rsplit(...)\n",
      " |      S.rsplit(sep=None, maxsplit=-1) -> list of strings\n",
      " |      \n",
      " |      Return a list of the words in S, using sep as the\n",
      " |      delimiter string, starting at the end of the string and\n",
      " |      working to the front.  If maxsplit is given, at most maxsplit\n",
      " |      splits are done. If sep is not specified, any whitespace string\n",
      " |      is a separator.\n",
      " |  \n",
      " |  rstrip(...)\n",
      " |      S.rstrip([chars]) -> str\n",
      " |      \n",
      " |      Return a copy of the string S with trailing whitespace removed.\n",
      " |      If chars is given and not None, remove characters in chars instead.\n",
      " |  \n",
      " |  split(...)\n",
      " |      S.split(sep=None, maxsplit=-1) -> list of strings\n",
      " |      \n",
      " |      Return a list of the words in S, using sep as the\n",
      " |      delimiter string.  If maxsplit is given, at most maxsplit\n",
      " |      splits are done. If sep is not specified or is None, any\n",
      " |      whitespace string is a separator and empty strings are\n",
      " |      removed from the result.\n",
      " |  \n",
      " |  splitlines(...)\n",
      " |      S.splitlines([keepends]) -> list of strings\n",
      " |      \n",
      " |      Return a list of the lines in S, breaking at line boundaries.\n",
      " |      Line breaks are not included in the resulting list unless keepends\n",
      " |      is given and true.\n",
      " |  \n",
      " |  startswith(...)\n",
      " |      S.startswith(prefix[, start[, end]]) -> bool\n",
      " |      \n",
      " |      Return True if S starts with the specified prefix, False otherwise.\n",
      " |      With optional start, test S beginning at that position.\n",
      " |      With optional end, stop comparing S at that position.\n",
      " |      prefix can also be a tuple of strings to try.\n",
      " |  \n",
      " |  strip(...)\n",
      " |      S.strip([chars]) -> str\n",
      " |      \n",
      " |      Return a copy of the string S with leading and trailing\n",
      " |      whitespace removed.\n",
      " |      If chars is given and not None, remove characters in chars instead.\n",
      " |  \n",
      " |  swapcase(...)\n",
      " |      S.swapcase() -> str\n",
      " |      \n",
      " |      Return a copy of S with uppercase characters converted to lowercase\n",
      " |      and vice versa.\n",
      " |  \n",
      " |  title(...)\n",
      " |      S.title() -> str\n",
      " |      \n",
      " |      Return a titlecased version of S, i.e. words start with title case\n",
      " |      characters, all remaining cased characters have lower case.\n",
      " |  \n",
      " |  translate(...)\n",
      " |      S.translate(table) -> str\n",
      " |      \n",
      " |      Return a copy of the string S in which each character has been mapped\n",
      " |      through the given translation table. The table must implement\n",
      " |      lookup/indexing via __getitem__, for instance a dictionary or list,\n",
      " |      mapping Unicode ordinals to Unicode ordinals, strings, or None. If\n",
      " |      this operation raises LookupError, the character is left untouched.\n",
      " |      Characters mapped to None are deleted.\n",
      " |  \n",
      " |  upper(...)\n",
      " |      S.upper() -> str\n",
      " |      \n",
      " |      Return a copy of S converted to uppercase.\n",
      " |  \n",
      " |  zfill(...)\n",
      " |      S.zfill(width) -> str\n",
      " |      \n",
      " |      Pad a numeric string S with zeros on the left, to fill a field\n",
      " |      of the specified width. The string S is never truncated.\n",
      " |  \n",
      " |  ----------------------------------------------------------------------\n",
      " |  Static methods defined here:\n",
      " |  \n",
      " |  maketrans(x, y=None, z=None, /)\n",
      " |      Return a translation table usable for str.translate().\n",
      " |      \n",
      " |      If there is only one argument, it must be a dictionary mapping Unicode\n",
      " |      ordinals (integers) or characters to Unicode ordinals, strings or None.\n",
      " |      Character keys will be then converted to ordinals.\n",
      " |      If there are two arguments, they must be strings of equal length, and\n",
      " |      in the resulting dictionary, each character in x will be mapped to the\n",
      " |      character at the same position in y. If there is a third argument, it\n",
      " |      must be a string, whose characters will be mapped to None in the result.\n",
      "\n",
      "Help on method_descriptor:\n",
      "\n",
      "lower(...)\n",
      "    S.lower() -> str\n",
      "    \n",
      "    Return a copy of the string S converted to lowercase.\n",
      "\n",
      "<class 'str'>\n",
      "2221375879472\n"
     ]
    }
   ],
   "source": [
    "# Help functions\n",
    "dir(message) # directory of available attributes\n",
    "help(str) # gives entire help of class\n",
    "help(str.lower) # gives help on specific methods\n",
    "print(type(message))\n",
    "print(id(message))"
   ]
  },
  {
   "cell_type": "code",
   "execution_count": 65,
   "metadata": {},
   "outputs": [],
   "source": [
    "# integers and floats\n",
    "\n",
    "#### Arithmetic Operators:\n",
    "# Addition:       3 + 2\n",
    "# Subtraction:    3 - 2\n",
    "# Multiplication: 3 * 2\n",
    "# Division:       3 / 2\n",
    "# Floor Division: 3 // 2\n",
    "# Exponent:       3 ** 2\n",
    "# Modulus:        3 % 2\n",
    "\n",
    "#### Comparisons: Return True of False\n",
    "# Equal:            3 == 2\n",
    "# Not Equal:        3 != 2\n",
    "# Greater Than:     3 > 2\n",
    "# Less Than:        3 < 2\n",
    "# Greater or Equal: 3 >= 2\n",
    "# Less or Equal:    3 <= 2\n"
   ]
  },
  {
   "cell_type": "code",
   "execution_count": 151,
   "metadata": {},
   "outputs": [
    {
     "name": "stdout",
     "output_type": "stream",
     "text": [
      "4.285714285714286\n",
      "4\n",
      "2\n",
      "3\n"
     ]
    }
   ],
   "source": [
    "print(30/7) # division\n",
    "print(30//7) # floor division\n",
    "print(30 % 7) # Modulus (remainder)\n",
    "print( 3 % 3333) # will be 0 with a remainder of 3\n"
   ]
  },
  {
   "cell_type": "code",
   "execution_count": 93,
   "metadata": {},
   "outputs": [
    {
     "name": "stdout",
     "output_type": "stream",
     "text": [
      "4\n",
      "8\n",
      "2.0\n"
     ]
    }
   ],
   "source": [
    "# assignment operators\n",
    "num =3\n",
    "num +=1 #add\n",
    "print(num)\n",
    "num *=2 #multiply\n",
    "print(num)\n",
    "num /=4 # divide\n",
    "print(num)"
   ]
  },
  {
   "cell_type": "code",
   "execution_count": 110,
   "metadata": {},
   "outputs": [
    {
     "data": {
      "text/plain": [
       "2.22"
      ]
     },
     "execution_count": 110,
     "metadata": {},
     "output_type": "execute_result"
    }
   ],
   "source": [
    "int('22')\n",
    "float('2.22')"
   ]
  },
  {
   "cell_type": "code",
   "execution_count": null,
   "metadata": {},
   "outputs": [],
   "source": [
    "# False Values:\n",
    "    # False\n",
    "    # None\n",
    "    # Zero of any numeric type\n",
    "    # Any empty sequence. For example, '', (), [].\n",
    "    # Any empty mapping. For example, {}."
   ]
  },
  {
   "cell_type": "code",
   "execution_count": 129,
   "metadata": {},
   "outputs": [
    {
     "name": "stdout",
     "output_type": "stream",
     "text": [
      "No Match :-(\n"
     ]
    }
   ],
   "source": [
    "lang = 'x'\n",
    "if lang == 'Python':\n",
    "    print(\"This is Python.\")\n",
    "elif lang == 'Java':\n",
    "    print('This be Java.')\n",
    "else:\n",
    "    print(r\"No Match :-(\")"
   ]
  },
  {
   "cell_type": "code",
   "execution_count": 139,
   "metadata": {},
   "outputs": [
    {
     "name": "stdout",
     "output_type": "stream",
     "text": [
      "A ok\n"
     ]
    }
   ],
   "source": [
    "user = 'Admin'\n",
    "logged_in = False\n",
    "\n",
    "if user == 'Admin' or logged_in == True:\n",
    "    print('A ok')\n",
    "    \n",
    "else:\n",
    "    print('Bad Credentials')"
   ]
  },
  {
   "cell_type": "code",
   "execution_count": 148,
   "metadata": {},
   "outputs": [
    {
     "name": "stdout",
     "output_type": "stream",
     "text": [
      "True\n",
      "False\n",
      "True\n"
     ]
    }
   ],
   "source": [
    "a = [1,2,3]\n",
    "b = [1,2,3]\n",
    "print(a == b) #True\n",
    "print(a is b) # false\n",
    "c = b\n",
    "print(c is b) # true"
   ]
  },
  {
   "cell_type": "code",
   "execution_count": 174,
   "metadata": {},
   "outputs": [
    {
     "name": "stdout",
     "output_type": "stream",
     "text": [
      "['History', 'Math', 'Comp-Sci']\n",
      "Comp-Sci\n",
      "['History', 'Math', 'Comp-Sci', 'Art']\n",
      "['History', 'Math', 'Comp-Sci', 'Art', ['Gym', 'StudyHall']]\n",
      "['History', 'Math', 'Comp-Sci', 'Art', 'Gym', 'StudyHall']\n",
      "['StudyHall', 'Gym', 'Art', 'Comp-Sci', 'Math', 'History']\n"
     ]
    }
   ],
   "source": [
    "# lists\n",
    "courses = ['History', 'Math', 'Comp-Sci']\n",
    "courses_2 = ['Gym', 'StudyHall']\n",
    "print(courses)\n",
    "len(courses)\n",
    "\n",
    "print(courses[-1]) #last item in list\n",
    "courses.append('Art')\n",
    "print(courses)\n",
    "courses.append(courses_2) # inserts entire list\n",
    "print(courses)\n",
    "courses.pop() # or coursres.remove(-1)\n",
    "courses.extend(courses_2)\n",
    "print(courses)\n",
    "courses.reverse()\n",
    "print(courses)\n"
   ]
  },
  {
   "cell_type": "code",
   "execution_count": 177,
   "metadata": {},
   "outputs": [
    {
     "name": "stdout",
     "output_type": "stream",
     "text": [
      "[1, 2, 3, 4, 5]\n"
     ]
    }
   ],
   "source": [
    "# sorting Lists\n",
    "my_list = [1,5,3,2,4]\n",
    "my_list.sort() # does this inplace\n",
    "print(my_list)"
   ]
  },
  {
   "cell_type": "code",
   "execution_count": 181,
   "metadata": {},
   "outputs": [
    {
     "name": "stdout",
     "output_type": "stream",
     "text": [
      "[1, 2, 3, 4, 5]\n"
     ]
    }
   ],
   "source": [
    "# sorting Lists\n",
    "my_list = [1,5,3,2,4]\n",
    "sorted_list = sorted(my_list) #returns new list\n",
    "print(sorted_list)"
   ]
  },
  {
   "cell_type": "code",
   "execution_count": 186,
   "metadata": {},
   "outputs": [
    {
     "name": "stdout",
     "output_type": "stream",
     "text": [
      "1\n",
      "5\n"
     ]
    },
    {
     "data": {
      "text/plain": [
       "2"
      ]
     },
     "execution_count": 186,
     "metadata": {},
     "output_type": "execute_result"
    }
   ],
   "source": [
    "print(min(my_list))\n",
    "print(max(my_list))\n",
    "courses.index('Art')"
   ]
  },
  {
   "cell_type": "code",
   "execution_count": 189,
   "metadata": {},
   "outputs": [
    {
     "name": "stdout",
     "output_type": "stream",
     "text": [
      "1 StudyHall\n",
      "2 Gym\n",
      "3 Art\n",
      "4 Comp-Sci\n",
      "5 Math\n",
      "6 History\n"
     ]
    }
   ],
   "source": [
    "for index, course in enumerate(courses, start =1):\n",
    "    print(index, course)"
   ]
  },
  {
   "cell_type": "code",
   "execution_count": 192,
   "metadata": {},
   "outputs": [
    {
     "name": "stdout",
     "output_type": "stream",
     "text": [
      "StudyHall-Gym-Art-Comp-Sci-Math-History\n"
     ]
    }
   ],
   "source": [
    "my_join = '-'.join(courses)\n",
    "print(my_join)"
   ]
  },
  {
   "cell_type": "code",
   "execution_count": 6,
   "metadata": {},
   "outputs": [
    {
     "name": "stdout",
     "output_type": "stream",
     "text": [
      "['Gym', 'history', 'math']\n",
      "['Gym', 'history', 'math']\n",
      "['Science', 'history', 'math']\n"
     ]
    }
   ],
   "source": [
    "# lists: ordered, mutable\n",
    "mylist1= ['art', 'history', 'math']\n",
    "\n",
    "mylist2= mylist1 # will always be the same list\n",
    "mylist2[0]='Gym' # change to gym but it will change mylist1 and 2\n",
    "mylist3= mylist1.copy() # will be a new copy\n",
    "mylist3[0] = 'Science'\n",
    "\n",
    "print(mylist1)\n",
    "print(mylist2)\n",
    "print(mylist3)"
   ]
  },
  {
   "cell_type": "code",
   "execution_count": 16,
   "metadata": {},
   "outputs": [
    {
     "name": "stdout",
     "output_type": "stream",
     "text": [
      "{'art', 'science', 'math', 'study', 'gym'}\n",
      "{'a', 'c', 'd', 'b'}\n"
     ]
    },
    {
     "data": {
      "text/plain": [
       "dict"
      ]
     },
     "execution_count": 16,
     "metadata": {},
     "output_type": "execute_result"
    }
   ],
   "source": [
    "# sets: unordered, no duplicates, mutable\n",
    "\n",
    "courses = {'math', 'science', 'gym', 'study', 'art', 'math'} # double 'math' is removed\n",
    "print(courses)\n",
    "\n",
    "mylist = ['a','b','c','b','b','d']\n",
    "print(set(mylist)) # create a set\n",
    "\n",
    "myset = set() # create empty set because {} will be a dict\n",
    "myset2 = {}\n",
    "type(myset2)\n",
    "\n",
    "\n",
    "# myset.intersection      myset.union            myset.difference"
   ]
  },
  {
   "cell_type": "code",
   "execution_count": 33,
   "metadata": {},
   "outputs": [
    {
     "name": "stdout",
     "output_type": "stream",
     "text": [
      "('a', 'b', 'c')\n"
     ]
    }
   ],
   "source": [
    "#tuples: imutable, unordered\n",
    "mytuple = ('a','b','c')\n",
    "print(mytuple)"
   ]
  },
  {
   "cell_type": "code",
   "execution_count": 29,
   "metadata": {},
   "outputs": [
    {
     "name": "stdout",
     "output_type": "stream",
     "text": [
      "John\n",
      "None Not Found in Dict\n",
      "{'name': 'Jon', 'Uni': 'Harvard', 'car': 'Maserati', 'age': '23', 'weight': 175}\n",
      "23\n",
      "{'name': 'Jon', 'Uni': 'Harvard', 'car': 'Maserati', 'weight': 175}\n",
      "dict_keys(['name', 'Uni', 'car', 'weight'])\n",
      "dict_values(['Jon', 'Harvard', 'Maserati', 175])\n",
      "dict_items([('name', 'Jon'), ('Uni', 'Harvard'), ('car', 'Maserati'), ('weight', 175)])\n",
      "\n",
      "name Jon\n",
      "Uni Harvard\n",
      "car Maserati\n",
      "weight 175\n"
     ]
    }
   ],
   "source": [
    "# dict: unordered key value pair, mutaable\n",
    "\n",
    "student = {'name': 'John', 'Uni':'Harvard', 'car':'Maserati', 'age':22}\n",
    "print(student['name'])\n",
    "print(student.get('bill'), \"Not Found in Dict\") # get will return None instead of an error. Doesnt require an alternate return value\n",
    "\n",
    "student.update({'name':'Jon','age':'23', 'weight':175}) # update a dict. Can change or add new values\n",
    "print(student)\n",
    "\n",
    "age =student.pop('age') # pop will remove value from list and save the value\n",
    "print(age) # will print age\n",
    "print(student) #age has been removed\n",
    "\n",
    "print(student.keys())\n",
    "print(student.values())\n",
    "print(student.items())\n",
    "print()\n",
    "\n",
    "for key, value in student.items():\n",
    "    print(key, value)"
   ]
  },
  {
   "cell_type": "code",
   "execution_count": 40,
   "metadata": {},
   "outputs": [
    {
     "name": "stdout",
     "output_type": "stream",
     "text": [
      "[1, 2, 3, 4, 5, 6]\n",
      "{'age': 22, 'name': 'Mike', 'job': 'Programmer', 'Height': 72}\n"
     ]
    }
   ],
   "source": [
    "l1 =[1,2,3]\n",
    "l2 = [4,5,6]\n",
    "\n",
    "d1 = {'age':22,'name':'Mike'}\n",
    "d2 = {'job':'Programmer','Height':72}\n",
    "print(l1 + l2)\n",
    "# print(d1 + d2) # does not work! Must use another method\n",
    "\n",
    "d3 = {**d1, **d2} # uses packing and unpacking to merge dicts\n",
    "print(d3)\n"
   ]
  },
  {
   "cell_type": "code",
   "execution_count": 52,
   "metadata": {},
   "outputs": [
    {
     "name": "stdout",
     "output_type": "stream",
     "text": [
      "[1, 2]\n",
      "{'name': 'Mike'}\n"
     ]
    }
   ],
   "source": [
    "# del() to remove \n",
    "mylist=[1,2,3]\n",
    "del(mylist[2]) # use del to delete from list\n",
    "print(mylist)\n",
    "\n",
    "mydict = {'age':22,'name':'Mike'}\n",
    "del(mydict['age'])\n",
    "print(mydict)"
   ]
  },
  {
   "cell_type": "code",
   "execution_count": 58,
   "metadata": {},
   "outputs": [
    {
     "name": "stdout",
     "output_type": "stream",
     "text": [
      "[1, 2, 3, 28]\n",
      "[1, 2, 3, 28, 22, 33, 33]\n",
      "{'name': 'Mike'}\n"
     ]
    }
   ],
   "source": [
    "# append()\n",
    "mylist=[1,2,3]\n",
    "mylist.append(28) # append single value\n",
    "print(mylist)\n",
    "mylist.extend([22,33,33]) # apppend multiple values (instead of adding a list)\n",
    "print(mylist)\n",
    "\n",
    "mydict = {'age':22,'name':'Mike'}\n",
    "del(mydict['age'])\n",
    "print(mydict)"
   ]
  },
  {
   "cell_type": "code",
   "execution_count": 67,
   "metadata": {},
   "outputs": [
    {
     "name": "stdout",
     "output_type": "stream",
     "text": [
      "[1.]\n",
      "[1. 2.]\n",
      "[1. 2. 3.]\n",
      "[1. 2. 3. 5.]\n"
     ]
    },
    {
     "data": {
      "text/plain": [
       "2"
      ]
     },
     "execution_count": 67,
     "metadata": {},
     "output_type": "execute_result"
    }
   ],
   "source": [
    "a = [1,2,3,5,2]\n",
    "\n",
    "import numpy as np\n",
    "\n",
    "def firstDuplicate(a):\n",
    "\n",
    "    if len(set(a)) == len(a):\n",
    "        return -1\n",
    "\n",
    "    my_arr = np.array(a)\n",
    "    find_arr = np.array([])\n",
    "\n",
    "    for i in my_arr:\n",
    "        if i in find_arr:\n",
    "            return i\n",
    "        else:\n",
    "            find_arr = np.append(find_arr, i)\n",
    "            print(find_arr)\n",
    "firstDuplicate(a)"
   ]
  },
  {
   "cell_type": "code",
   "execution_count": 66,
   "metadata": {},
   "outputs": [
    {
     "name": "stdout",
     "output_type": "stream",
     "text": [
      "[]\n"
     ]
    }
   ],
   "source": [
    "arr = np.array([])\n",
    "np.append(arr, 22, )\n",
    "print(arr)"
   ]
  },
  {
   "cell_type": "code",
   "execution_count": 77,
   "metadata": {},
   "outputs": [
    {
     "data": {
      "text/plain": [
       "(1, 2)"
      ]
     },
     "execution_count": 77,
     "metadata": {},
     "output_type": "execute_result"
    }
   ],
   "source": [
    "def foo():\n",
    "    a = 1\n",
    "    b =2 \n",
    "    c = 'Some very long string you do not give a hoot about.'\n",
    "    \n",
    "    return a, b\n",
    "\n",
    "z= foo()\n",
    "z"
   ]
  },
  {
   "cell_type": "code",
   "execution_count": 153,
   "metadata": {},
   "outputs": [
    {
     "name": "stdout",
     "output_type": "stream",
     "text": [
      "1\n",
      "2\n"
     ]
    },
    {
     "data": {
      "text/plain": [
       "int"
      ]
     },
     "execution_count": 153,
     "metadata": {},
     "output_type": "execute_result"
    }
   ],
   "source": [
    "# assignment packing and unpacking\n",
    "x = (1,2) # packing is when you assign muliptle values to a single variable\n",
    "(a,b) = x #unpacking is assigning variables to a single packed variable\n",
    "# a, b = x # alternate way to unpack\n",
    "\n",
    "\n",
    "print(a)\n",
    "print(b)\n",
    "type(a)"
   ]
  },
  {
   "cell_type": "code",
   "execution_count": 97,
   "metadata": {},
   "outputs": [
    {
     "name": "stdout",
     "output_type": "stream",
     "text": [
      "b\n"
     ]
    }
   ],
   "source": [
    "count = [['a',1],['b',0]]\n",
    "\n",
    "for i in count:\n",
    "    if i[1] != 1:\n",
    "        print(i[0])"
   ]
  },
  {
   "cell_type": "code",
   "execution_count": 103,
   "metadata": {},
   "outputs": [
    {
     "data": {
      "text/plain": [
       "0"
      ]
     },
     "execution_count": 103,
     "metadata": {},
     "output_type": "execute_result"
    }
   ],
   "source": [
    "foo='somestirng'\n",
    "foo.rindex"
   ]
  },
  {
   "cell_type": "code",
   "execution_count": 145,
   "metadata": {},
   "outputs": [
    {
     "name": "stdout",
     "output_type": "stream",
     "text": [
      "i (0, -2)\n",
      "0\n",
      "i (1, 2)\n",
      "7\n",
      "i (2, 5)\n",
      "-6\n",
      "i (3, -11)\n",
      "-5\n",
      "i (4, 6)\n"
     ]
    },
    {
     "data": {
      "text/plain": [
       "('max', 7)"
      ]
     },
     "execution_count": 145,
     "metadata": {},
     "output_type": "execute_result"
    }
   ],
   "source": [
    "inputArray = [-2, 2, 5, -11, 6]\n",
    "\n",
    "def arrayMaxConsecutiveSum2(inputArray):\n",
    "\n",
    "    maxNum= inputArray[0] + inputArray[1]\n",
    "    \n",
    "    for i in enumerate(inputArray):\n",
    "        print('i',i)\n",
    "        maxLocal = i[0]\n",
    "            mysum=i[1] + inputArray[i[0]+1]\n",
    "            print(mysum)\n",
    "            if mysum > maxNum:\n",
    "                maxNum = mysum\n",
    "        except:\n",
    "            if i[-1]> maxNum:\n",
    "                maxNum = i[-1]\n",
    "            \n",
    "    return 'max', maxNum\n",
    "\n",
    "arrayMaxConsecutiveSum2(inputArray)"
   ]
  },
  {
   "cell_type": "code",
   "execution_count": 163,
   "metadata": {},
   "outputs": [
    {
     "data": {
      "text/plain": [
       "44"
      ]
     },
     "execution_count": 163,
     "metadata": {},
     "output_type": "execute_result"
    }
   ],
   "source": [
    "a = 22\n",
    "\n",
    "a*= 2\n",
    "a"
   ]
  },
  {
   "cell_type": "code",
   "execution_count": 6,
   "metadata": {},
   "outputs": [
    {
     "data": {
      "text/plain": [
       "False"
      ]
     },
     "execution_count": 6,
     "metadata": {},
     "output_type": "execute_result"
    }
   ],
   "source": [
    "10+90<100"
   ]
  },
  {
   "cell_type": "code",
   "execution_count": null,
   "metadata": {},
   "outputs": [],
   "source": []
  }
 ],
 "metadata": {
  "kernelspec": {
   "display_name": "Python 3",
   "language": "python",
   "name": "python3"
  },
  "language_info": {
   "codemirror_mode": {
    "name": "ipython",
    "version": 3
   },
   "file_extension": ".py",
   "mimetype": "text/x-python",
   "name": "python",
   "nbconvert_exporter": "python",
   "pygments_lexer": "ipython3",
   "version": "3.6.8"
  }
 },
 "nbformat": 4,
 "nbformat_minor": 2
}
