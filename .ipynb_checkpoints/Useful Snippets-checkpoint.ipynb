{
 "cells": [
  {
   "cell_type": "code",
   "execution_count": 8,
   "metadata": {},
   "outputs": [
    {
     "name": "stdout",
     "output_type": "stream",
     "text": [
      "My Favorite Martian.\n",
      "My Favorite Martian.\n"
     ]
    }
   ],
   "source": [
    "# string replace\n",
    "import re\n",
    "string = 'My (Favorite) Martian.'\n",
    "\n",
    "string_replaced = string.replace(')', '').replace('(','') # use replace for single character\n",
    "\n",
    "string_re = re.sub('[(|)]', \"\", string) # use re to sub characters. Must be in brackets. | is OR \n",
    "\n",
    "print(string_replaced)\n",
    "print(string_re)"
   ]
  },
  {
   "cell_type": "code",
   "execution_count": 14,
   "metadata": {},
   "outputs": [
    {
     "name": "stdout",
     "output_type": "stream",
     "text": [
      "['Hello', 'From', 'Outer', 'Space!']\n",
      "Hello-From-Outer-Space!\n"
     ]
    }
   ],
   "source": [
    "# string split and join\n",
    "string = \"Hello From Outer Space!\"\n",
    "\n",
    "string_split=string.split(' ') # splits into list\n",
    "print(string_split)\n",
    "\n",
    "joined = '-'.join(string_split)\n",
    "print(joined)\n",
    "\n"
   ]
  },
  {
   "cell_type": "code",
   "execution_count": null,
   "metadata": {},
   "outputs": [],
   "source": []
  }
 ],
 "metadata": {
  "kernelspec": {
   "display_name": "Python 3",
   "language": "python",
   "name": "python3"
  },
  "language_info": {
   "codemirror_mode": {
    "name": "ipython",
    "version": 3
   },
   "file_extension": ".py",
   "mimetype": "text/x-python",
   "name": "python",
   "nbconvert_exporter": "python",
   "pygments_lexer": "ipython3",
   "version": "3.6.8"
  }
 },
 "nbformat": 4,
 "nbformat_minor": 2
}
