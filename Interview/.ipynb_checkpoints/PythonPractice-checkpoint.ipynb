{
 "cells": [
  {
   "cell_type": "code",
   "execution_count": 76,
   "metadata": {},
   "outputs": [
    {
     "data": {
      "text/plain": [
       "16"
      ]
     },
     "execution_count": 76,
     "metadata": {},
     "output_type": "execute_result"
    }
   ],
   "source": [
    "# labmda\n",
    "# lambda arguments : expression\n",
    "myLambda = lambda a : a * 2\n",
    "myList= [1,2,3,4,5]\n",
    "myList2=[11,22,33,44,55]\n",
    "\n",
    "myLambda(8)"
   ]
  },
  {
   "cell_type": "code",
   "execution_count": 89,
   "metadata": {},
   "outputs": [
    {
     "name": "stdout",
     "output_type": "stream",
     "text": [
      "\n"
     ]
    },
    {
     "data": {
      "text/plain": [
       "['__bool__',\n",
       " '__class__',\n",
       " '__delattr__',\n",
       " '__dir__',\n",
       " '__doc__',\n",
       " '__eq__',\n",
       " '__format__',\n",
       " '__ge__',\n",
       " '__getattribute__',\n",
       " '__gt__',\n",
       " '__hash__',\n",
       " '__init__',\n",
       " '__init_subclass__',\n",
       " '__le__',\n",
       " '__lt__',\n",
       " '__ne__',\n",
       " '__new__',\n",
       " '__reduce__',\n",
       " '__reduce_ex__',\n",
       " '__repr__',\n",
       " '__setattr__',\n",
       " '__sizeof__',\n",
       " '__str__',\n",
       " '__subclasshook__']"
      ]
     },
     "execution_count": 89,
     "metadata": {},
     "output_type": "execute_result"
    }
   ],
   "source": []
  },
  {
   "cell_type": "code",
   "execution_count": 2,
   "metadata": {},
   "outputs": [
    {
     "name": "stdout",
     "output_type": "stream",
     "text": [
      "[2, 4, 6, 8, 10]\n"
     ]
    },
    {
     "data": {
      "text/plain": [
       "[(1, 'A'),\n",
       " (1, 'B'),\n",
       " (2, 'A'),\n",
       " (2, 'B'),\n",
       " (3, 'A'),\n",
       " (3, 'B'),\n",
       " (4, 'A'),\n",
       " (4, 'B'),\n",
       " (5, 'A'),\n",
       " (5, 'B')]"
      ]
     },
     "execution_count": 2,
     "metadata": {},
     "output_type": "execute_result"
    }
   ],
   "source": [
    "my_list_comp = [a * 2 for a in myList] # with a single argument\n",
    "print(my_list_comp)\n",
    "\n",
    "myComp2 = [(a,b) for a in myList for b in 'AB'] # with 2 arguments\n",
    "myComp2"
   ]
  },
  {
   "cell_type": "code",
   "execution_count": 3,
   "metadata": {},
   "outputs": [
    {
     "data": {
      "text/plain": [
       "[11, 44, 99, 176, 275]"
      ]
     },
     "execution_count": 3,
     "metadata": {},
     "output_type": "execute_result"
    }
   ],
   "source": [
    "# map(function, iterable) or map(function, iterable/arg1, iterable/arg2)\n",
    "\n",
    "def x3(i,b):\n",
    "    return i * b\n",
    "\n",
    "x4 = map(x3, myList, myList2) # function does not need args passed\n",
    "list(x4) "
   ]
  },
  {
   "cell_type": "code",
   "execution_count": 4,
   "metadata": {},
   "outputs": [
    {
     "data": {
      "text/plain": [
       "[2, 4]"
      ]
     },
     "execution_count": 4,
     "metadata": {},
     "output_type": "execute_result"
    }
   ],
   "source": [
    "modulo = list(filter(lambda a : a % 2 == 0, myList))\n",
    "modulo"
   ]
  },
  {
   "cell_type": "code",
   "execution_count": 5,
   "metadata": {},
   "outputs": [
    {
     "data": {
      "text/plain": [
       "[1, 2, 3, 4, 5]"
      ]
     },
     "execution_count": 5,
     "metadata": {},
     "output_type": "execute_result"
    }
   ],
   "source": [
    "[x for x in myList]"
   ]
  },
  {
   "cell_type": "code",
   "execution_count": 6,
   "metadata": {},
   "outputs": [
    {
     "name": "stdout",
     "output_type": "stream",
     "text": [
      "0\n",
      "1\n",
      "2\n",
      "3\n",
      "4\n",
      "5\n"
     ]
    }
   ],
   "source": [
    "i = 0 \n",
    "while i <= 5:\n",
    "    print(i)\n",
    "    i +=1"
   ]
  },
  {
   "cell_type": "code",
   "execution_count": 7,
   "metadata": {},
   "outputs": [
    {
     "name": "stdout",
     "output_type": "stream",
     "text": [
      "I != 3 or 6\n",
      "I != 3 or 6\n",
      "I != 3 or 6\n",
      "I equals 3\n",
      "I != 3 or 6\n",
      "I != 3 or 6\n",
      "i = 6\n",
      "I != 3 or 6\n",
      "I != 3 or 6\n",
      "I != 3 or 6\n"
     ]
    }
   ],
   "source": [
    "for i in range(0,10):\n",
    "    if i == 3:\n",
    "        print('I equals 3')\n",
    "    elif i == 6:\n",
    "        print('i = 6')\n",
    "    else:\n",
    "        print('I != 3 or 6')"
   ]
  },
  {
   "cell_type": "code",
   "execution_count": 8,
   "metadata": {},
   "outputs": [
    {
     "name": "stdout",
     "output_type": "stream",
     "text": [
      "Cant Divide by Zero! division by zero\n",
      "10.0\n",
      "5.0\n",
      "3.3333333333333335\n",
      "2.0\n",
      "General Error:  unsupported operand type(s) for /: 'int' and 'str'\n"
     ]
    }
   ],
   "source": [
    "myList= [0,1,2,3,5,'string']\n",
    "\n",
    "for i in myList:\n",
    "    try:\n",
    "        print(10/i)\n",
    "    except ZeroDivisionError as e: # can except specific exceptions\n",
    "        print('Cant Divide by Zero!', e)\n",
    "    except Exception as e: # Catches all exceptions\n",
    "        print('General Error: ', e)\n",
    "    else: # executes after successful try\n",
    "        if i == 8:\n",
    "            print(' almost done')\n",
    "    finally:\n",
    "        if i ==9:\n",
    "            print('Really Done')\n",
    "\n",
    "# often used in requests or with user input\n"
   ]
  },
  {
   "cell_type": "code",
   "execution_count": 9,
   "metadata": {},
   "outputs": [
    {
     "data": {
      "text/plain": [
       "dict_keys(['_content', '_content_consumed', '_next', 'status_code', 'headers', 'raw', 'url', 'encoding', 'history', 'reason', 'cookies', 'elapsed', 'request', 'connection'])"
      ]
     },
     "execution_count": 9,
     "metadata": {},
     "output_type": "execute_result"
    }
   ],
   "source": [
    "# basic http request\n",
    "import requests\n",
    "\n",
    "r=requests.get('https://www.google.com')\n",
    "r.__dict__.keys()"
   ]
  },
  {
   "cell_type": "code",
   "execution_count": 10,
   "metadata": {},
   "outputs": [
    {
     "name": "stdout",
     "output_type": "stream",
     "text": [
      "{'Date': 'Sun, 03 Mar 2019 20:48:23 GMT', 'Expires': '-1', 'Cache-Control': 'private, max-age=0', 'Content-Type': 'text/html; charset=ISO-8859-1', 'P3P': 'CP=\"This is not a P3P policy! See g.co/p3phelp for more info.\"', 'Content-Encoding': 'gzip', 'Server': 'gws', 'X-XSS-Protection': '1; mode=block', 'X-Frame-Options': 'SAMEORIGIN', 'Set-Cookie': '1P_JAR=2019-03-03-20; expires=Tue, 02-Apr-2019 20:48:23 GMT; path=/; domain=.google.com, NID=178=h6AIXCW8PoqfqlKkNfrc2hJTv8Ocwxfo5xi4VfiZwzmk1rnB3_M1FkaAcZmCJ8vy_W3DJi83nvCJVf6HHpqx8XYneTc5GlNNlOoagJf44WJdwyqRNrO8WV890X86iOBmzE-eKIFZoFJEw4WmkyVq5qcORovRZNKvN_X-1pLC3ow; expires=Mon, 02-Sep-2019 20:48:23 GMT; path=/; domain=.google.com; HttpOnly', 'Alt-Svc': 'quic=\":443\"; ma=2592000; v=\"44,43,39\"', 'Transfer-Encoding': 'chunked'}\n"
     ]
    }
   ],
   "source": [
    "from pprint import pprint\n",
    "pprint(r.headers)"
   ]
  },
  {
   "cell_type": "code",
   "execution_count": 11,
   "metadata": {},
   "outputs": [],
   "source": [
    "# basic Flask app\n",
    "from flask import Flask\n",
    "\n",
    "app = Flask(__name__)\n",
    "\n",
    "@app.route('/')\n",
    "def home():\n",
    "    return \"Hello World!\"\n",
    "# if __name__ == '__main__':\n",
    "#     app.run()"
   ]
  },
  {
   "cell_type": "code",
   "execution_count": 12,
   "metadata": {},
   "outputs": [
    {
     "name": "stdout",
     "output_type": "stream",
     "text": [
      "True\n",
      "False\n",
      "True\n",
      "1711177808\n",
      "1711177808\n",
      "1710672304\n"
     ]
    }
   ],
   "source": [
    "print(1 == True) # 1 is equivalent to True\n",
    "print(1 is True) # 1 is not the same as True. It points to a different place in memory\n",
    "a = 1\n",
    "print(a is 1) # true\n",
    "print(id(a)) # id()is used for in memory location\n",
    "print(id(1))\n",
    "print(id(True))"
   ]
  },
  {
   "cell_type": "code",
   "execution_count": 13,
   "metadata": {},
   "outputs": [],
   "source": [
    "# A hash function is any function that can be used to map data of arbitrary size onto data of a fixed size."
   ]
  },
  {
   "cell_type": "code",
   "execution_count": 115,
   "metadata": {},
   "outputs": [
    {
     "name": "stdout",
     "output_type": "stream",
     "text": [
      "{1, 2, 3, 'strong', 'string'}\n",
      "{1, 2, 3, '34', 'strong', 'string'}\n"
     ]
    }
   ],
   "source": [
    "myList = [1,2,3,4,'string',True] # mutable\n",
    "mySet = {1,2,'string',True, 1,1,1,3,'strong','string'} # values can be added/removed but not changed\n",
    "print(mySet)\n",
    "mySet.add('34')\n",
    "print(mySet)"
   ]
  },
  {
   "cell_type": "code",
   "execution_count": 116,
   "metadata": {},
   "outputs": [
    {
     "name": "stdout",
     "output_type": "stream",
     "text": [
      "[1, 2, 3, 4, 'string', True]\n",
      "[1, 2, '22', 3, 4, 'string', True]\n"
     ]
    },
    {
     "data": {
      "text/plain": [
       "[1, 2, 3, 4, 'string', True]"
      ]
     },
     "execution_count": 116,
     "metadata": {},
     "output_type": "execute_result"
    }
   ],
   "source": [
    "print(myList)\n",
    "myList.insert(2,'22')\n",
    "print(myList)\n",
    "myList.pop(2)\n",
    "myList"
   ]
  },
  {
   "cell_type": "code",
   "execution_count": 15,
   "metadata": {},
   "outputs": [
    {
     "name": "stdout",
     "output_type": "stream",
     "text": [
      "{'apple': 'fruit', 'eggs': 'dairy', 'hamburger': 'meat'}\n",
      "apple : fruit\n",
      "eggs : dairy\n",
      "hamburger : meat\n"
     ]
    }
   ],
   "source": [
    "myDict = {'apple':'fruit', 'eggs':'dairy', 'hamburger':'meat'}\n",
    "print(myDict)\n",
    "\n",
    "# print key value pairs \n",
    "for key, value in myDict.items():\n",
    "    print(key,':', value)"
   ]
  },
  {
   "cell_type": "code",
   "execution_count": 119,
   "metadata": {},
   "outputs": [],
   "source": [
    "# create classes\n",
    "class Employee():\n",
    "    raise_amount = 1.04 # class variable that should be changed based on each instance of employee\n",
    "    num_of_emps= 0  # class variable that should be the same for all instances of Employee\n",
    "    \n",
    "    def __init__(self, f_name, l_name, pay):\n",
    "        self.f_name = f_name\n",
    "        self.l_name = l_name\n",
    "        self.pay = pay\n",
    "        self.email= f'{f_name.lower()}.{l_name.lower()}@company.com'\n",
    "        \n",
    "        Employee.num_of_emps +=1 # class variable \n",
    "        \n",
    "    def fullname(self): # dont forget to add 'self'\n",
    "        return f'{self.f_name} {self.l_name}'\n",
    "    \n",
    "    def apply_raise(self): # add 'self'\n",
    "        self.pay = int(self.pay * self.raise_amount) # use self.raise so each instance gets unique raise\n",
    "        \n",
    "    @classmethod # used for making changes to class\n",
    "    def set_raise_amt(cls, amount):\n",
    "        cls.raise_amount = amount\n",
    "        \n",
    "    @classmethod\n",
    "    def from_string(cls, emp_str): # this is an alternative constructor\n",
    "        first, last, pay = emp_str.split('-')\n",
    "        \n",
    "        return cls(first, last, pay)\n",
    "    \n",
    "    @staticmethod # does not require instance of class. Used for related functionality.\n",
    "    def is_workday(day):\n",
    "        if day.weekday()== 5 or day.weekday()== 6:\n",
    "            return False\n",
    "        else:\n",
    "            return True\n",
    "        \n",
    "    def __repr__(self):\n",
    "        return f\"Employee('{self.f_name}', '{self.l_name}', '{self.pay}')\"\n",
    "    \n",
    "    def __str__(self):\n",
    "        return f\"{self.fullname}, {self.email}\"\n",
    "    def __len__(self):\n",
    "        return len(self.fullname())\n",
    "\n",
    "class Developer(Employee):\n",
    "    def __init__(self, f_name, l_name, pay, code):\n",
    "        super().__init__(f_name, l_name, pay) # speciifies where to inherit from\n",
    "        self.code = code"
   ]
  },
  {
   "cell_type": "code",
   "execution_count": 17,
   "metadata": {},
   "outputs": [],
   "source": [
    "Bob= Employee('Bob', 'Smith', 85000)\n",
    "Jill = Employee('Jill', 'Johnson', 96000)"
   ]
  },
  {
   "cell_type": "code",
   "execution_count": 18,
   "metadata": {},
   "outputs": [
    {
     "name": "stdout",
     "output_type": "stream",
     "text": [
      "Bob\n",
      "bob.smith@company.com\n"
     ]
    }
   ],
   "source": [
    "print(Bob.f_name)\n",
    "print(Bob.email)"
   ]
  },
  {
   "cell_type": "code",
   "execution_count": 21,
   "metadata": {},
   "outputs": [],
   "source": [
    "Bob.f_name= 'Robert'"
   ]
  },
  {
   "cell_type": "code",
   "execution_count": 22,
   "metadata": {},
   "outputs": [
    {
     "data": {
      "text/plain": [
       "'Robert Smith'"
      ]
     },
     "execution_count": 22,
     "metadata": {},
     "output_type": "execute_result"
    }
   ],
   "source": [
    "# use Class to get fullname \n",
    "Employee.fullname(Bob)"
   ]
  },
  {
   "cell_type": "code",
   "execution_count": 23,
   "metadata": {},
   "outputs": [
    {
     "name": "stdout",
     "output_type": "stream",
     "text": [
      "85000\n",
      "88400\n"
     ]
    }
   ],
   "source": [
    "print(Bob.pay)\n",
    "Bob.apply_raise()\n",
    "print(Bob.pay)"
   ]
  },
  {
   "cell_type": "code",
   "execution_count": 24,
   "metadata": {},
   "outputs": [
    {
     "name": "stdout",
     "output_type": "stream",
     "text": [
      "96000\n"
     ]
    }
   ],
   "source": [
    "print(Jill.pay)\n",
    "Jill.apply_raise()\n"
   ]
  },
  {
   "cell_type": "code",
   "execution_count": 25,
   "metadata": {},
   "outputs": [],
   "source": [
    "Jill.raise_amount= 2\n",
    "Jill.apply_raise()"
   ]
  },
  {
   "cell_type": "code",
   "execution_count": 26,
   "metadata": {},
   "outputs": [
    {
     "data": {
      "text/plain": [
       "2"
      ]
     },
     "execution_count": 26,
     "metadata": {},
     "output_type": "execute_result"
    }
   ],
   "source": [
    "Employee.num_of_emps"
   ]
  },
  {
   "cell_type": "code",
   "execution_count": 27,
   "metadata": {},
   "outputs": [],
   "source": [
    "Jan =Employee.from_string('Jan-Jones-55000')"
   ]
  },
  {
   "cell_type": "code",
   "execution_count": 28,
   "metadata": {},
   "outputs": [
    {
     "data": {
      "text/plain": [
       "True"
      ]
     },
     "execution_count": 28,
     "metadata": {},
     "output_type": "execute_result"
    }
   ],
   "source": [
    "import datetime\n",
    "date = datetime.date(2019, 1, 3)\n",
    "Employee.is_workday(date)"
   ]
  },
  {
   "cell_type": "code",
   "execution_count": 29,
   "metadata": {},
   "outputs": [],
   "source": [
    "George = Developer('George', 'Williams', 66000, 'Java')"
   ]
  },
  {
   "cell_type": "code",
   "execution_count": 30,
   "metadata": {},
   "outputs": [
    {
     "data": {
      "text/plain": [
       "'Java'"
      ]
     },
     "execution_count": 30,
     "metadata": {},
     "output_type": "execute_result"
    }
   ],
   "source": [
    "George.code"
   ]
  },
  {
   "cell_type": "code",
   "execution_count": 31,
   "metadata": {},
   "outputs": [],
   "source": [
    "# isintance(Obj, Class)\n",
    "# issubclass(Obj, Class)"
   ]
  },
  {
   "cell_type": "code",
   "execution_count": 32,
   "metadata": {},
   "outputs": [
    {
     "data": {
      "text/plain": [
       "\"<bound method Employee.fullname of Employee('Robert', 'Smith', '88400')>, bob.smith@company.com\""
      ]
     },
     "execution_count": 32,
     "metadata": {},
     "output_type": "execute_result"
    }
   ],
   "source": [
    "str(Bob)"
   ]
  },
  {
   "cell_type": "code",
   "execution_count": 33,
   "metadata": {},
   "outputs": [
    {
     "data": {
      "text/plain": [
       "2"
      ]
     },
     "execution_count": 33,
     "metadata": {},
     "output_type": "execute_result"
    }
   ],
   "source": [
    "a = 2\n",
    "a"
   ]
  },
  {
   "cell_type": "code",
   "execution_count": 34,
   "metadata": {},
   "outputs": [
    {
     "data": {
      "text/plain": [
       "'2'"
      ]
     },
     "execution_count": 34,
     "metadata": {},
     "output_type": "execute_result"
    }
   ],
   "source": [
    "str(a)"
   ]
  },
  {
   "cell_type": "code",
   "execution_count": 35,
   "metadata": {},
   "outputs": [
    {
     "data": {
      "text/plain": [
       "\"<class 'datetime.datetime'>\""
      ]
     },
     "execution_count": 35,
     "metadata": {},
     "output_type": "execute_result"
    }
   ],
   "source": [
    "str(datetime.datetime)"
   ]
  },
  {
   "cell_type": "code",
   "execution_count": 36,
   "metadata": {},
   "outputs": [
    {
     "data": {
      "text/plain": [
       "{'f_name': 'Robert',\n",
       " 'l_name': 'Smith',\n",
       " 'pay': 88400,\n",
       " 'email': 'bob.smith@company.com'}"
      ]
     },
     "execution_count": 36,
     "metadata": {},
     "output_type": "execute_result"
    }
   ],
   "source": [
    "Bob.__dict__"
   ]
  },
  {
   "cell_type": "code",
   "execution_count": 37,
   "metadata": {},
   "outputs": [],
   "source": [
    "Bob.eyes= 'Glasses'"
   ]
  },
  {
   "cell_type": "code",
   "execution_count": 40,
   "metadata": {},
   "outputs": [
    {
     "name": "stdout",
     "output_type": "stream",
     "text": [
      "1\n",
      "4\n",
      "9\n",
      "16\n",
      "25\n"
     ]
    }
   ],
   "source": [
    "# generators, used for iterating onver a single item. Does not hold entire object in memory\n",
    "\n",
    "def square(nums):\n",
    "    for i in nums:\n",
    "        yield (i * i)\n",
    "\n",
    "myList = [1,2,3,4,5]\n",
    "\n",
    "mysquare=square(myList)\n",
    "\n",
    "print(next(mysquare)) # used to get next item\n",
    "\n",
    "for i in mysquare:\n",
    "    print(i)\n",
    "\n",
    "# generator comprehension\n",
    "my_gen = (n*n for n in myList) #note this is a generator note a tuple comprehension. tuple(n*n for n in nums) is a tuple comprehension"
   ]
  },
  {
   "cell_type": "code",
   "execution_count": null,
   "metadata": {},
   "outputs": [],
   "source": []
  },
  {
   "cell_type": "code",
   "execution_count": 41,
   "metadata": {},
   "outputs": [
    {
     "name": "stdout",
     "output_type": "stream",
     "text": [
      "True\n",
      "1\n",
      "2\n"
     ]
    }
   ],
   "source": [
    "# iterable and iterators\n",
    "# iterable: able to be looped over. Has __iter__() method. \n",
    "# iterator:object with a state so it remembers where it is during iteration. Hast __next__() method\n",
    "\n",
    "nums = [1,2,3]\n",
    "dir(nums) # has __iter__ \n",
    "\n",
    "i_nums = iter(nums) \n",
    "dir(i_nums) # has __next__ \n",
    "print('__next__' in dir(i_nums))\n",
    "\n",
    "print(next(i_nums))\n",
    "print(next(i_nums))"
   ]
  },
  {
   "cell_type": "code",
   "execution_count": null,
   "metadata": {},
   "outputs": [],
   "source": [
    "# first class objects means everything is an object. It can be altered, deleted and passed around"
   ]
  },
  {
   "cell_type": "code",
   "execution_count": 42,
   "metadata": {},
   "outputs": [],
   "source": [
    "myList = [0, 1,2,3,4]"
   ]
  },
  {
   "cell_type": "code",
   "execution_count": 49,
   "metadata": {},
   "outputs": [
    {
     "data": {
      "text/plain": [
       "[0, 2, 4]"
      ]
     },
     "execution_count": 49,
     "metadata": {},
     "output_type": "execute_result"
    }
   ],
   "source": [
    "# Big O Notation\n",
    "\n",
    "# 0(1) is 'constant time'\n",
    "    # Any number of items requires 1 step. \n",
    "    \n",
    "# O(n) is 'linear time' \n",
    "    # linear relationship between time and lenght of list\n",
    "    \n",
    "# O(n^2) is 'quadratic time'\n",
    "    # increases in porportion ot the poroduc of n*n\n",
    "\n",
    "# O(log n) is 'logarithmic time'\n",
    "    \n",
    "    \n",
    "    "
   ]
  },
  {
   "cell_type": "code",
   "execution_count": 125,
   "metadata": {},
   "outputs": [],
   "source": [
    "# *args allows you to pass any number of arguments to a function\n",
    "# **kwargs allows you to pass any number of keyword arguments to a function. \n",
    "# print() is a good example for using args\n",
    "# print('yo') or print('yo', 'yo') or print(myList) all work to print any number of args"
   ]
  },
  {
   "cell_type": "code",
   "execution_count": 75,
   "metadata": {},
   "outputs": [
    {
     "name": "stdout",
     "output_type": "stream",
     "text": [
      "0\n"
     ]
    }
   ],
   "source": []
  },
  {
   "cell_type": "code",
   "execution_count": 117,
   "metadata": {},
   "outputs": [],
   "source": [
    "class foo:\n",
    "    pass"
   ]
  },
  {
   "cell_type": "code",
   "execution_count": 123,
   "metadata": {},
   "outputs": [
    {
     "ename": "NameError",
     "evalue": "name 'np' is not defined",
     "output_type": "error",
     "traceback": [
      "\u001b[1;31m---------------------------------------------------------------------------\u001b[0m",
      "\u001b[1;31mNameError\u001b[0m                                 Traceback (most recent call last)",
      "\u001b[1;32m<ipython-input-123-9fc92680ea34>\u001b[0m in \u001b[0;36m<module>\u001b[1;34m\u001b[0m\n\u001b[0;32m      1\u001b[0m \u001b[1;32mimport\u001b[0m \u001b[0minspect\u001b[0m\u001b[1;33m\u001b[0m\u001b[1;33m\u001b[0m\u001b[0m\n\u001b[0;32m      2\u001b[0m \u001b[1;33m\u001b[0m\u001b[0m\n\u001b[1;32m----> 3\u001b[1;33m \u001b[0minspect\u001b[0m\u001b[1;33m.\u001b[0m\u001b[0mgetmro\u001b[0m\u001b[1;33m(\u001b[0m\u001b[0mnp\u001b[0m\u001b[1;33m)\u001b[0m\u001b[1;33m\u001b[0m\u001b[1;33m\u001b[0m\u001b[0m\n\u001b[0m",
      "\u001b[1;31mNameError\u001b[0m: name 'np' is not defined"
     ]
    }
   ],
   "source": [
    "import inspect\n",
    "\n",
    "inspect.getmro(np)"
   ]
  },
  {
   "cell_type": "code",
   "execution_count": null,
   "metadata": {},
   "outputs": [],
   "source": []
  },
  {
   "cell_type": "code",
   "execution_count": null,
   "metadata": {},
   "outputs": [],
   "source": []
  },
  {
   "cell_type": "code",
   "execution_count": null,
   "metadata": {},
   "outputs": [],
   "source": []
  },
  {
   "cell_type": "code",
   "execution_count": null,
   "metadata": {},
   "outputs": [],
   "source": []
  },
  {
   "cell_type": "code",
   "execution_count": null,
   "metadata": {},
   "outputs": [],
   "source": []
  },
  {
   "cell_type": "code",
   "execution_count": null,
   "metadata": {},
   "outputs": [],
   "source": []
  }
 ],
 "metadata": {
  "kernelspec": {
   "display_name": "Python 3",
   "language": "python",
   "name": "python3"
  },
  "language_info": {
   "codemirror_mode": {
    "name": "ipython",
    "version": 3
   },
   "file_extension": ".py",
   "mimetype": "text/x-python",
   "name": "python",
   "nbconvert_exporter": "python",
   "pygments_lexer": "ipython3",
   "version": "3.6.7"
  }
 },
 "nbformat": 4,
 "nbformat_minor": 2
}
