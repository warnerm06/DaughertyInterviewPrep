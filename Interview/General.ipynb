{
 "cells": [
  {
   "cell_type": "code",
   "execution_count": 1,
   "metadata": {},
   "outputs": [],
   "source": [
    "my_lambda = lambda a : a*a"
   ]
  },
  {
   "cell_type": "code",
   "execution_count": 12,
   "metadata": {},
   "outputs": [
    {
     "name": "stdout",
     "output_type": "stream",
     "text": [
      "[1, 2, 3, False]\n"
     ]
    },
    {
     "data": {
      "text/plain": [
       "[1, 2, 3]"
      ]
     },
     "execution_count": 12,
     "metadata": {},
     "output_type": "execute_result"
    }
   ],
   "source": [
    "my_list = [1,2,3, False]\n",
    "\n",
    "filtered_list = filter(None, my_list)\n",
    "print(my_list)\n",
    "list(filtered_list)"
   ]
  },
  {
   "cell_type": "code",
   "execution_count": 13,
   "metadata": {},
   "outputs": [
    {
     "data": {
      "text/plain": [
       "1710672304"
      ]
     },
     "execution_count": 13,
     "metadata": {},
     "output_type": "execute_result"
    }
   ],
   "source": [
    "print(id)"
   ]
  },
  {
   "cell_type": "code",
   "execution_count": 21,
   "metadata": {},
   "outputs": [],
   "source": [
    "import pandas as pd"
   ]
  },
  {
   "cell_type": "code",
   "execution_count": 57,
   "metadata": {},
   "outputs": [
    {
     "name": "stdout",
     "output_type": "stream",
     "text": [
      "Normal List:  [1, 3, 9, 4]\n"
     ]
    },
    {
     "data": {
      "text/plain": [
       "[1, 3, 4, 9]"
      ]
     },
     "execution_count": 57,
     "metadata": {},
     "output_type": "execute_result"
    }
   ],
   "source": [
    "a=[1,3,9,4]\n",
    "print('Normal List: ',a)\n",
    "a.sort()\n",
    "a"
   ]
  },
  {
   "cell_type": "code",
   "execution_count": 58,
   "metadata": {},
   "outputs": [
    {
     "data": {
      "text/plain": [
       "[1, 2, 3, 4, 5]"
      ]
     },
     "execution_count": 58,
     "metadata": {},
     "output_type": "execute_result"
    }
   ],
   "source": [
    "a = [5, 2, 3, 1, 4]\n",
    "a.sort()\n",
    "a"
   ]
  },
  {
   "cell_type": "code",
   "execution_count": 72,
   "metadata": {},
   "outputs": [
    {
     "name": "stdout",
     "output_type": "stream",
     "text": [
      "Text\n",
      "\n",
      "This works too\n",
      "22\n",
      "2.1234\n",
      "<module 'pandas' from 'C:\\\\Users\\\\warne\\\\Anaconda3\\\\lib\\\\site-packages\\\\pandas\\\\__init__.py'>\n",
      "<class 'pandas.core.series.Series'>\n",
      "Series([], dtype: float64)\n",
      "Hello From myFunc!\n",
      "Hello From myFunc!\n"
     ]
    }
   ],
   "source": [
    "\n",
    "def myFunc():\n",
    "    return 'Hello From myFunc!'\n",
    "\n",
    "print('Text') # just plain text\n",
    "print() # prints an empty line \n",
    "print                ('This works too') # in Python, whitespace is ignored.... sometimes... \n",
    "print(22)\n",
    "print(2.1234)\n",
    "print(pd)\n",
    "print(pd.Series)\n",
    "print(pd.Series())\n",
    "print(myFunc())\n",
    "print(myFunc())"
   ]
  },
  {
   "cell_type": "code",
   "execution_count": 11,
   "metadata": {},
   "outputs": [],
   "source": [
    "import cProfile, pstats, io\n",
    "\n",
    "def profile(fnc):\n",
    "    \n",
    "    \"\"\"A decorator that uses cProfile to profile a function\"\"\"\n",
    "    \n",
    "    def inner(*args, **kwargs):\n",
    "        \n",
    "        pr = cProfile.Profile()\n",
    "        pr.enable()\n",
    "        retval = fnc(*args, **kwargs)\n",
    "        pr.disable()\n",
    "        s = io.StringIO()\n",
    "        sortby = 'cumulative'\n",
    "        ps = pstats.Stats(pr, stream=s).sort_stats(sortby)\n",
    "        ps.print_stats()\n",
    "        print(s.getvalue())\n",
    "        return retval\n",
    "\n",
    "    return inner"
   ]
  },
  {
   "cell_type": "code",
   "execution_count": 69,
   "metadata": {},
   "outputs": [],
   "source": [
    "import numpy as np\n",
    "\n",
    "@profile\n",
    "def factors(x):\n",
    "    # We will store all factors in `result`\n",
    "    result = np.array([])\n",
    "    i = 1\n",
    "    # This will loop from 1 to int(sqrt(x))\n",
    "    for i in range(1,int(round(np.sqrt(x)))):\n",
    "        # Check if i divides x without leaving a remainder\n",
    "        if x % i == 0:\n",
    "            result = np.append(result, i)\n",
    "            # Handle the case explained in the 4th\n",
    "            if x/i != i:\n",
    "                result = np.append(result, x/i)\n",
    "        i += 1\n",
    "    # Return the list of factors of x\n",
    "#     return result\n",
    "    return sorted([int(a) for a in result])"
   ]
  },
  {
   "cell_type": "code",
   "execution_count": 74,
   "metadata": {},
   "outputs": [
    {
     "name": "stdout",
     "output_type": "stream",
     "text": [
      "         78 function calls in 2.723 seconds\n",
      "\n",
      "   Ordered by: cumulative time\n",
      "\n",
      "   ncalls  tottime  percall  cumtime  percall filename:lineno(function)\n",
      "        1    2.723    2.723    2.723    2.723 <ipython-input-69-e35cbed463e0>:3(factors)\n",
      "        8    0.000    0.000    0.000    0.000 C:\\Users\\warne\\Anaconda3\\lib\\site-packages\\numpy\\lib\\function_base.py:4641(append)\n",
      "        8    0.000    0.000    0.000    0.000 C:\\Users\\warne\\Anaconda3\\lib\\site-packages\\numpy\\core\\fromnumeric.py:1583(ravel)\n",
      "        8    0.000    0.000    0.000    0.000 {built-in method numpy.concatenate}\n",
      "       17    0.000    0.000    0.000    0.000 {built-in method numpy.array}\n",
      "       16    0.000    0.000    0.000    0.000 C:\\Users\\warne\\Anaconda3\\lib\\site-packages\\numpy\\core\\numeric.py:541(asanyarray)\n",
      "        1    0.000    0.000    0.000    0.000 {built-in method builtins.round}\n",
      "        8    0.000    0.000    0.000    0.000 {method 'ravel' of 'numpy.ndarray' objects}\n",
      "        1    0.000    0.000    0.000    0.000 <ipython-input-69-e35cbed463e0>:19(<listcomp>)\n",
      "        8    0.000    0.000    0.000    0.000 {built-in method builtins.isinstance}\n",
      "        1    0.000    0.000    0.000    0.000 {built-in method builtins.sorted}\n",
      "        1    0.000    0.000    0.000    0.000 {method 'disable' of '_lsprof.Profiler' objects}\n",
      "\n",
      "\n",
      "\n"
     ]
    },
    {
     "data": {
      "text/plain": [
       "[1, 2, 860623, 1721246, 158212907, 316425814, 136161666661061, 272323333322122]"
      ]
     },
     "execution_count": 74,
     "metadata": {},
     "output_type": "execute_result"
    }
   ],
   "source": [
    "factors(272323333322122)"
   ]
  },
  {
   "cell_type": "code",
   "execution_count": 126,
   "metadata": {},
   "outputs": [
    {
     "name": "stdout",
     "output_type": "stream",
     "text": [
      "0\n",
      "2\n",
      "4\n",
      "6\n"
     ]
    }
   ],
   "source": [
    "my_list = [0,1,2,3,4,5]\n",
    "\n",
    "def double_list(nums):\n",
    "    for i in nums:\n",
    "        yield i*2\n",
    "        \n",
    "doubled = double_list(my_list)\n",
    "\n",
    "print(next(doubled))\n",
    "print(next(doubled))\n",
    "print(next(doubled))\n",
    "print(next(doubled))\n"
   ]
  },
  {
   "cell_type": "code",
   "execution_count": 115,
   "metadata": {},
   "outputs": [
    {
     "name": "stdout",
     "output_type": "stream",
     "text": [
      "34\n"
     ]
    },
    {
     "data": {
      "text/plain": [
       "True"
      ]
     },
     "execution_count": 115,
     "metadata": {},
     "output_type": "execute_result"
    }
   ],
   "source": [
    "num=51\n",
    "\n",
    "is_prime(53)"
   ]
  },
  {
   "cell_type": "code",
   "execution_count": 2,
   "metadata": {},
   "outputs": [],
   "source": [
    "import random\n",
    " \n",
    "def is_Prime(n):\n",
    "    \"\"\"\n",
    "    Miller-Rabin primality test.\n",
    " \n",
    "    A return value of False means n is certainly not prime. A return value of\n",
    "    True means n is very likely a prime.\n",
    "    \"\"\"\n",
    "#     if n!=int(n):\n",
    "#         return False\n",
    "    n=int(n)\n",
    "    #Miller-Rabin test for prime\n",
    "    if n==0 or n==1 or n==4 or n==6 or n==8 or n==9:\n",
    "        return False\n",
    " \n",
    "    if n==2 or n==3 or n==5 or n==7:\n",
    "        return True\n",
    "    s = 0\n",
    "    d = n-1\n",
    "    while d%2==0:\n",
    "        d>>=1\n",
    "        s+=1\n",
    "    assert(2**s * d == n-1)\n",
    " \n",
    "    def trial_composite(a):\n",
    "        if pow(a, d, n) == 1:\n",
    "            return False\n",
    "        for i in range(s):\n",
    "            print('Range: ', i)\n",
    "            if pow(a, 2**i * d, n) == n-1:\n",
    "                return False\n",
    "        return True  \n",
    " \n",
    "    for i in range(8):#number of trials \n",
    "        print('Trial: ', i)\n",
    "        a = random.randrange(2, n)\n",
    "        if trial_composite(a):\n",
    "            return False\n",
    " \n",
    "    return True "
   ]
  },
  {
   "cell_type": "code",
   "execution_count": null,
   "metadata": {},
   "outputs": [],
   "source": [
    "\n",
    "\n",
    "for i in range(1,6):\n",
    "    # is_Prime(391581*2**216193-1)\n",
    "    # is_Prime(19)\n",
    "    print(10**i)\n",
    "    %time\n",
    "    is_Prime(2**(10**i)-1)\n"
   ]
  },
  {
   "cell_type": "code",
   "execution_count": 2,
   "metadata": {},
   "outputs": [
    {
     "data": {
      "text/plain": [
       "3"
      ]
     },
     "execution_count": 2,
     "metadata": {},
     "output_type": "execute_result"
    }
   ],
   "source": [
    "f=3\n",
    "f"
   ]
  },
  {
   "cell_type": "code",
   "execution_count": null,
   "metadata": {},
   "outputs": [],
   "source": []
  }
 ],
 "metadata": {
  "kernelspec": {
   "display_name": "Python 3",
   "language": "python",
   "name": "python3"
  },
  "language_info": {
   "codemirror_mode": {
    "name": "ipython",
    "version": 3
   },
   "file_extension": ".py",
   "mimetype": "text/x-python",
   "name": "python",
   "nbconvert_exporter": "python",
   "pygments_lexer": "ipython3",
   "version": "3.6.8"
  }
 },
 "nbformat": 4,
 "nbformat_minor": 2
}
