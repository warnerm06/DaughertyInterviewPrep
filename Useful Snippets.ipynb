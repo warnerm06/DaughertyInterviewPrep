{
 "cells": [
  {
   "cell_type": "markdown",
   "metadata": {},
   "source": [
    "Common Mistakes\n",
    "1. Read the Error! Read the line the error occurs on!\n",
    "2. Syntax errors \n",
    "        a. Check for colons, parenthesis, commas etc....\n",
    "2. Does the method change in place? Or return a new object?\n",
    "3. Use print() along the way\n",
    "4. Do one thing at a time\n"
   ]
  },
  {
   "cell_type": "code",
   "execution_count": 8,
   "metadata": {},
   "outputs": [
    {
     "name": "stdout",
     "output_type": "stream",
     "text": [
      "My Favorite Martian.\n",
      "My Favorite Martian.\n"
     ]
    }
   ],
   "source": [
    "# string replace\n",
    "import re\n",
    "string = 'My (Favorite) Martian.'\n",
    "\n",
    "string_replaced = string.replace(')', '').replace('(','') # use replace for single character\n",
    "\n",
    "string_re = re.sub('[(|)]', \"\", string) # use re to sub characters. Must be in brackets. | is OR \n",
    "\n",
    "print(string_replaced)\n",
    "print(string_re)"
   ]
  },
  {
   "cell_type": "code",
   "execution_count": 14,
   "metadata": {},
   "outputs": [
    {
     "name": "stdout",
     "output_type": "stream",
     "text": [
      "['Hello', 'From', 'Outer', 'Space!']\n",
      "Hello-From-Outer-Space!\n"
     ]
    }
   ],
   "source": [
    "# string split and join\n",
    "string = \"Hello From Outer Space!\"\n",
    "\n",
    "string_split=string.split(' ') # splits into list\n",
    "print(string_split)\n",
    "\n",
    "joined = '-'.join(string_split)\n",
    "print(joined)\n",
    "\n"
   ]
  },
  {
   "cell_type": "code",
   "execution_count": 19,
   "metadata": {},
   "outputs": [
    {
     "data": {
      "text/plain": [
       "14"
      ]
     },
     "execution_count": 19,
     "metadata": {},
     "output_type": "execute_result"
    }
   ],
   "source": [
    "mylist = [1,2,3,4,5]\n",
    "mylist.remove(1)\n",
    "sum(mylist)"
   ]
  },
  {
   "cell_type": "code",
   "execution_count": 21,
   "metadata": {},
   "outputs": [
    {
     "data": {
      "text/plain": [
       "array([[ 30,  36,  42],\n",
       "       [ 66,  81,  96],\n",
       "       [102, 126, 150]])"
      ]
     },
     "execution_count": 21,
     "metadata": {},
     "output_type": "execute_result"
    }
   ],
   "source": [
    "import numpy as np\n",
    "\n",
    "m1 = [[1,2,3],\n",
    "      [4,5,6],\n",
    "      [7,8,9]]\n",
    "m2 = [[1,2,3],\n",
    "      [4,5,6],\n",
    "      [7,8,9]]\n",
    "\n",
    "np.matmul(m1,m2)"
   ]
  },
  {
   "cell_type": "code",
   "execution_count": 30,
   "metadata": {},
   "outputs": [
    {
     "name": "stdout",
     "output_type": "stream",
     "text": [
      "3\n",
      "4\n",
      "5\n",
      "6\n",
      "7\n",
      "8\n",
      "9\n"
     ]
    }
   ],
   "source": [
    "a = 2\n",
    "\n",
    "while a <9:\n",
    "    a+=1\n",
    "    print(a)"
   ]
  },
  {
   "cell_type": "code",
   "execution_count": 39,
   "metadata": {},
   "outputs": [
    {
     "name": "stdin",
     "output_type": "stream",
     "text": [
      "Enter a number:  22\n"
     ]
    },
    {
     "data": {
      "text/plain": [
       "22"
      ]
     },
     "execution_count": 39,
     "metadata": {},
     "output_type": "execute_result"
    }
   ],
   "source": [
    "value = int(input(\"Enter a number: \"))\n",
    "int(value)"
   ]
  },
  {
   "cell_type": "code",
   "execution_count": 70,
   "metadata": {},
   "outputs": [
    {
     "data": {
      "text/plain": [
       "1000.0"
      ]
     },
     "execution_count": 70,
     "metadata": {},
     "output_type": "execute_result"
    }
   ],
   "source": []
  },
  {
   "cell_type": "code",
   "execution_count": 71,
   "metadata": {},
   "outputs": [
    {
     "name": "stdin",
     "output_type": "stream",
     "text": [
      "Please give us a number:  3\n"
     ]
    },
    {
     "name": "stdout",
     "output_type": "stream",
     "text": [
      "6\n"
     ]
    }
   ],
   "source": [
    "from math import factorial\n",
    "\n",
    "def factorial1():\n",
    "    num = int(input(\"Please give us a number: \"))\n",
    "    if num <0:\n",
    "        print(\"Choose a non negative number!\")\n",
    "    else:\n",
    "        print(factorial(int(num)))\n",
    "\n",
    "factorial1()\n"
   ]
  },
  {
   "cell_type": "code",
   "execution_count": 72,
   "metadata": {},
   "outputs": [],
   "source": []
  },
  {
   "cell_type": "code",
   "execution_count": 82,
   "metadata": {},
   "outputs": [
    {
     "data": {
      "text/plain": [
       "'Undefined'"
      ]
     },
     "execution_count": 82,
     "metadata": {},
     "output_type": "execute_result"
    }
   ],
   "source": [
    "mylist = [[1,2,3],[4,5,6]]\n",
    "mylist2=[]\n",
    "\n",
    "def sumNestedList(l):\n",
    "    count = 0 \n",
    "    if not l:\n",
    "        return 'Undefined'\n",
    "    for i in l:\n",
    "        count+=sum(i)\n",
    "    return count\n",
    "\n",
    "sumNestedList(mylist2)"
   ]
  },
  {
   "cell_type": "code",
   "execution_count": 89,
   "metadata": {},
   "outputs": [
    {
     "data": {
      "text/plain": [
       "'elephant'"
      ]
     },
     "execution_count": 89,
     "metadata": {},
     "output_type": "execute_result"
    }
   ],
   "source": [
    "word = 'elephant'\n",
    "list(word)\n",
    "''.join(word)"
   ]
  },
  {
   "cell_type": "code",
   "execution_count": 110,
   "metadata": {},
   "outputs": [
    {
     "name": "stdout",
     "output_type": "stream",
     "text": [
      "Done\n",
      "Wall time: 665 ms\n"
     ]
    }
   ],
   "source": [
    "%%time\n",
    "mylist = [x for x in range(1_000_000)]\n",
    "\n",
    "def double(nums):\n",
    "    for num in nums:\n",
    "        yield num*2\n",
    "        \n",
    "doubled = double(mylist)\n",
    "\n",
    "quad = [x for x in doubled if x %12081 ==0]\n",
    "print('Done')\n"
   ]
  },
  {
   "cell_type": "code",
   "execution_count": 111,
   "metadata": {},
   "outputs": [
    {
     "name": "stdout",
     "output_type": "stream",
     "text": [
      "Done\n",
      "Wall time: 459 ms\n"
     ]
    }
   ],
   "source": [
    "%%time\n",
    "mylist = [x for x in range(1_000_000)]\n",
    "\n",
    "\n",
    "quad = [x for x in mylist if x %12081 ==0]\n",
    "print('Done')\n",
    "\n"
   ]
  },
  {
   "cell_type": "code",
   "execution_count": 143,
   "metadata": {},
   "outputs": [
    {
     "data": {
      "text/plain": [
       "[1, 3, 4, 1, 3, 1, 1, 2]"
      ]
     },
     "execution_count": 143,
     "metadata": {},
     "output_type": "execute_result"
    }
   ],
   "source": [
    "import numpy as np\n",
    "a =[1,3,4],[[1,3],[1]],[1,[2]]\n",
    "arr = np.array(a)\n",
    "\n",
    "a =str(a)\n",
    "a = a.replace('(',\"\").replace(')',\"\").replace(']','').replace('[','').replace(',','')\n",
    "a =a.split()\n",
    "[int(x) for x in a]"
   ]
  },
  {
   "cell_type": "code",
   "execution_count": 146,
   "metadata": {},
   "outputs": [],
   "source": []
  },
  {
   "cell_type": "code",
   "execution_count": 148,
   "metadata": {},
   "outputs": [
    {
     "data": {
      "text/plain": [
       "[0, 1, 2, 3, 4, 5, 6, 7, 8]"
      ]
     },
     "execution_count": 148,
     "metadata": {},
     "output_type": "execute_result"
    }
   ],
   "source": [
    "mylist = [x for x in range(0,9)]\n",
    "mylist\n",
    "\n",
    "a = [filter(a)]"
   ]
  },
  {
   "cell_type": "code",
   "execution_count": null,
   "metadata": {},
   "outputs": [],
   "source": []
  }
 ],
 "metadata": {
  "kernelspec": {
   "display_name": "Python 3",
   "language": "python",
   "name": "python3"
  },
  "language_info": {
   "codemirror_mode": {
    "name": "ipython",
    "version": 3
   },
   "file_extension": ".py",
   "mimetype": "text/x-python",
   "name": "python",
   "nbconvert_exporter": "python",
   "pygments_lexer": "ipython3",
   "version": "3.6.8"
  }
 },
 "nbformat": 4,
 "nbformat_minor": 2
}
